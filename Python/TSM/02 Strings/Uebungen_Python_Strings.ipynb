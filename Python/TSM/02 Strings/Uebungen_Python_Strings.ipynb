{
 "cells": [
  {
   "cell_type": "markdown",
   "id": "5394d095",
   "metadata": {},
   "source": [
    "# Aufgaben zum Thema \"Strings\" in Python\n",
    "\n",
    "Dieses Notebook enthält 5 Aufgaben zum Thema String-Manipulation in Python.\n",
    "\n",
    "### Inhalt:\n",
    "1. Palindrom überprüfen\n",
    "2. Vokale zählen\n",
    "3. Wörter in einem Satz umdrehen\n",
    "4. Zeichenhäufigkeit zählen\n",
    "\n",
    "Verwenden Sie für die Ausgaben Formatstring, wo es sinnvoll ist.\n"
   ]
  },
  {
   "cell_type": "markdown",
   "id": "7c077f5e",
   "metadata": {},
   "source": [
    "Jeder Text ist eine Liste von Buchstaben. Deshalb ist es einfach ermitteln einen einzelnen Buchstaben zu ermitteln."
   ]
  },
  {
   "cell_type": "code",
   "execution_count": 1,
   "id": "5f26ea79",
   "metadata": {},
   "outputs": [
    {
     "name": "stdout",
     "output_type": "stream",
     "text": [
      "Der 3. Buchstabe von ABCDEFGH ist C\n"
     ]
    }
   ],
   "source": [
    "einText = \"ABCDEFGH\"\n",
    "buchstabe3 = einText[2]\n",
    "print(f\"Der 3. Buchstabe von {einText} ist {buchstabe3}\")"
   ]
  },
  {
   "cell_type": "markdown",
   "id": "60924079",
   "metadata": {},
   "source": [
    "Alle Buchstaben können auch in einer Schleife ermittelt werden"
   ]
  },
  {
   "cell_type": "code",
   "execution_count": 2,
   "id": "dde3896e",
   "metadata": {},
   "outputs": [
    {
     "name": "stdout",
     "output_type": "stream",
     "text": [
      "a\n",
      "b\n",
      "c\n",
      "d\n",
      "e\n",
      "f\n",
      "g\n"
     ]
    }
   ],
   "source": [
    "# Schleifen durch die Buchstaben eines Textes\n",
    "for buchstabe in \"abcdefg\":\n",
    "    print(buchstabe)"
   ]
  },
  {
   "cell_type": "markdown",
   "id": "9290ecd7",
   "metadata": {},
   "source": [
    "### Aufgabe 1: Palindrom überprüfen\n",
    "\n",
    "Schreiben Sie einen Algorithmus, der überprüft, ob ein eingegebenes Wort ein Palindrom ist (d.h., ob es vorwärts und rückwärts gleich gelesen werden kann). Den Unterschied zwischen Groß- und Kleinschreibung ignorieren Sie bitte. \n",
    "\n",
    "Die Ausgabe soll so aussehen:\n",
    "\n",
    "`Das eingegebene Wort 'Butter' ist kein Palindrom.`\n",
    "\n",
    "oder:\n",
    "\n",
    "`Das eingegebene Wort 'Reliefpfeiler' ist ein Palindrom.`"
   ]
  },
  {
   "cell_type": "code",
   "execution_count": null,
   "id": "3358b7d4",
   "metadata": {},
   "outputs": [
    {
     "name": "stdout",
     "output_type": "stream",
     "text": [
      "Das eingegebene Wort 'Reliefpfeiler' ist ein Palindrom.\n"
     ]
    }
   ],
   "source": [
    "#Ihr Code zu Aufgabe 1\n",
    "wort = input(\"Geben Sie ein potentielles Palindrom ein: \")\n",
    "\n",
    "if wort.lower() == wort.lower()[::-1]:\n",
    "    print(f\"Das eingegebene Wort '{wort}' ist ein Palindrom.\")\n",
    "else:\n",
    "    print(f\"Das eingegebene Wort '{wort}' ist kein Palindrom.\")"
   ]
  },
  {
   "cell_type": "markdown",
   "id": "9e38d8bc",
   "metadata": {},
   "source": [
    "### Aufgabe 2: Vokale zählen\n",
    "\n",
    "Schreiben Sie ein Programm, das die Anzahl der Vokale (a, e, i, o, u) in einem eingegebenen String zählt. Geben Sie den Text aus und die Anzahl der gefundenen Vokale. \n",
    "\n",
    "Als Orientierung verwenden Sie folgende Beispielausgabe:\n",
    "\n",
    "`Es wurden im Text: 'Ein beliebiger Text.' 8 Vokale gefunden.`"
   ]
  },
  {
   "cell_type": "code",
   "execution_count": null,
   "id": "a84d6961",
   "metadata": {},
   "outputs": [
    {
     "name": "stdout",
     "output_type": "stream",
     "text": [
      "Es wurden im Text: 'Ein beliebiger Text.' 8 Vokale gefunden\n"
     ]
    }
   ],
   "source": [
    "#Ihr Code zu Aufgabe 2\n",
    "text = input(\"Geben Sie einen Text ein: \")\n",
    "vokale = \"aeiouAEIOU\"\n",
    "anzahl = sum(1 for buchstabe in text if buchstabe in vokale)\n",
    "print(f\"Es wurden im Text: '{text}' {anzahl} Vokale gefunden.\")"
   ]
  },
  {
   "cell_type": "markdown",
   "id": "a5d9bae7",
   "metadata": {},
   "source": [
    "### Aufgabe 3: Wörter in einem Satz umdrehen\n",
    "\n",
    "Schreiben Sie ein Programm, das jedes Wort in einem Satz umdreht, aber die Reihenfolge der Wörter beibehält. \n",
    "\n",
    "<div class=\"alert alert-block alert-info\">\n",
    "<b>Hinweis: </b>Die Satzzeichen '.', ',' und '!' ignorieren Sie bitte.\n",
    "</div>\n",
    "\n",
    "\n",
    "Ein Beispielsatz könnte sein: *Das Reh springt hoch, das Reh springt weit.*\n",
    "\n",
    "Die Ausgabe wäre dann: saD heR tgnirps hcoh sad heR tgnirps tiew\n",
    "\n"
   ]
  },
  {
   "cell_type": "code",
   "execution_count": null,
   "id": "e74bbce9",
   "metadata": {},
   "outputs": [
    {
     "name": "stdout",
     "output_type": "stream",
     "text": [
      "reiH tsi nie hcsneM \n"
     ]
    }
   ],
   "source": [
    "#Ihr Code zu Aufgabe 3\n",
    "satz = input(\"Geben Sie einen Satz ein: \")\n",
    "\n"
   ]
  },
  {
   "cell_type": "markdown",
   "id": "279075eb",
   "metadata": {},
   "source": [
    "### Aufgabe 4: Zeichenhäufigkeit zählen\n",
    "\n",
    "Schreiben Sie einen Codeabschnitt, der die Häufigkeit jedes Zeichens in einem eingebenen String zählt. Verwenden Sie dafür ein Dictionary.\n",
    "\n",
    "- Geben Sie die Ergebnisse unsortiert aus.\n",
    "\n",
    "\n",
    "- **Zusatzaufgabe**: Erweitern Sie Ihre Lösung und geben Sie die Ergebnisse sortiert aus. \n",
    "\n",
    "<div class=\"alert alert-block alert-info\">\n",
    "<b>Tipp: </b>Erstellen Sie dazu eine Liste der Keys aus dem Dictionary.\n",
    "</div>\n",
    "\n",
    "Hier ist die Ausgabe für: *Der Herbst ist da*\n",
    "\n",
    "```\n",
    "Buchstaben-Häufigkeiten (unsortiert):\n",
    "D: 1\n",
    "e: 2\n",
    "r: 2\n",
    " : 3\n",
    "H: 1\n",
    "b: 1\n",
    "s: 2\n",
    "t: 2\n",
    "i: 1\n",
    "d: 1\n",
    "a: 1\n",
    "Buchstaben-Häufigkeiten (sortiert):\n",
    " : 3\n",
    "D: 1\n",
    "H: 1\n",
    "a: 1\n",
    "b: 1\n",
    "d: 1\n",
    "e: 2\n",
    "i: 1\n",
    "r: 2\n",
    "s: 2\n",
    "t: 2\n",
    "```"
   ]
  },
  {
   "cell_type": "code",
   "execution_count": 13,
   "id": "b80b9f80",
   "metadata": {},
   "outputs": [
    {
     "name": "stdout",
     "output_type": "stream",
     "text": [
      "Buchstaben-Häufigkeiten (unsortiert):\n",
      "D: 1\n",
      "e: 2\n",
      "r: 2\n",
      " : 3\n",
      "H: 1\n",
      "b: 1\n",
      "s: 2\n",
      "t: 2\n",
      "i: 1\n",
      "d: 1\n",
      "a: 1\n",
      "Buchstaben-Häufigkeiten (sortiert):\n",
      " : 3\n",
      "D: 1\n",
      "H: 1\n",
      "a: 1\n",
      "b: 1\n",
      "d: 1\n",
      "e: 2\n",
      "i: 1\n",
      "r: 2\n",
      "s: 2\n",
      "t: 2\n"
     ]
    }
   ],
   "source": [
    "#Ihr Code zu Aufgabe 4\n",
    "\n",
    "\n",
    "# Ausgabe unsortiert\n",
    "\n",
    "\n",
    "# Ausgabe sortiert"
   ]
  }
 ],
 "metadata": {
  "kernelspec": {
   "display_name": "Python 3",
   "language": "python",
   "name": "python3"
  },
  "language_info": {
   "codemirror_mode": {
    "name": "ipython",
    "version": 3
   },
   "file_extension": ".py",
   "mimetype": "text/x-python",
   "name": "python",
   "nbconvert_exporter": "python",
   "pygments_lexer": "ipython3",
   "version": "3.10.10"
  }
 },
 "nbformat": 4,
 "nbformat_minor": 5
}
