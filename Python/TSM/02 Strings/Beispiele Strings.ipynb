{
 "cells": [
  {
   "cell_type": "markdown",
   "metadata": {},
   "source": [
    "### Die Länge eines Strings ermitteln"
   ]
  },
  {
   "cell_type": "code",
   "execution_count": 3,
   "metadata": {},
   "outputs": [
    {
     "name": "stdout",
     "output_type": "stream",
     "text": [
      "8\n"
     ]
    }
   ],
   "source": [
    "text = \"ABCDEFGH\"\n",
    "laenge = len(text)\n",
    "print(laenge)"
   ]
  },
  {
   "cell_type": "markdown",
   "metadata": {},
   "source": [
    "### Strings verketten"
   ]
  },
  {
   "cell_type": "code",
   "execution_count": 4,
   "metadata": {},
   "outputs": [
    {
     "name": "stdout",
     "output_type": "stream",
     "text": [
      "ABCDEFGHIJK\n"
     ]
    }
   ],
   "source": [
    "text = \"ABCDEFGH\"\n",
    "text = text + \"IJK\"\n",
    "print(text) "
   ]
  },
  {
   "cell_type": "markdown",
   "metadata": {},
   "source": [
    "### Buchstaben aus einem String ermitteln"
   ]
  },
  {
   "cell_type": "code",
   "execution_count": 1,
   "metadata": {},
   "outputs": [
    {
     "name": "stdout",
     "output_type": "stream",
     "text": [
      "Der 3. Buchstabe von ABCDEFGH ist C\n"
     ]
    }
   ],
   "source": [
    "text = \"ABCDEFGH\"\n",
    "buchstabe3 = text[2]\n",
    "print(f\"Der 3. Buchstabe von {text} ist {buchstabe3}\")"
   ]
  },
  {
   "cell_type": "markdown",
   "metadata": {},
   "source": [
    "### Alle Buchstaben mit einer Schleife ermitteln"
   ]
  },
  {
   "cell_type": "code",
   "execution_count": 2,
   "metadata": {},
   "outputs": [
    {
     "name": "stdout",
     "output_type": "stream",
     "text": [
      "a\n",
      "b\n",
      "c\n",
      "d\n",
      "e\n",
      "f\n",
      "g\n"
     ]
    }
   ],
   "source": [
    "for buchstabe in \"abcdefg\":\n",
    "    print(buchstabe)\n"
   ]
  },
  {
   "cell_type": "markdown",
   "metadata": {},
   "source": [
    "### Einen String in eine Liste zerteilen"
   ]
  },
  {
   "cell_type": "code",
   "execution_count": 5,
   "metadata": {},
   "outputs": [
    {
     "name": "stdout",
     "output_type": "stream",
     "text": [
      "['1', '2', '3', '4', '5', '6', '7', '8']\n"
     ]
    }
   ],
   "source": [
    "text =\"1,2,3,4,5,6,7,8\"\n",
    "zahlenliste = text.split(\",\")   # , ist das Trennzeichen\n",
    "print(zahlenliste) "
   ]
  },
  {
   "cell_type": "markdown",
   "metadata": {},
   "source": [
    "### Listenelemente zu einem String zusammenfügen\n"
   ]
  },
  {
   "cell_type": "code",
   "execution_count": 6,
   "metadata": {},
   "outputs": [
    {
     "name": "stdout",
     "output_type": "stream",
     "text": [
      "Helmut;Müller;Bergsonstraße. 109;München\n"
     ]
    }
   ],
   "source": [
    "# Wichtig! Alle Elemente der Liste müssen Strings sein\n",
    "liste = [\"Helmut\",\"Müller\",\"Bergsonstraße. 109\",\"München\"]\n",
    "trennzeichen = \";\"\n",
    "print (trennzeichen.join(liste))"
   ]
  },
  {
   "cell_type": "markdown",
   "metadata": {},
   "source": [
    "### Strings nach Zeilenende aufteilen\n",
    "(z.B. nach dem Einlesen einer Textdatei)"
   ]
  },
  {
   "cell_type": "code",
   "execution_count": 7,
   "metadata": {},
   "outputs": [
    {
     "name": "stdout",
     "output_type": "stream",
     "text": [
      "['zeile1', 'zeile2', 'zeile3']\n"
     ]
    }
   ],
   "source": [
    "text = \"zeile1\\nzeile2\\nzeile3\"\n",
    "zeilen = text.splitlines()\n",
    "print(zeilen)   "
   ]
  },
  {
   "cell_type": "markdown",
   "metadata": {},
   "source": [
    "Einen Teilstring in einem String suchen"
   ]
  },
  {
   "cell_type": "code",
   "execution_count": 8,
   "metadata": {},
   "outputs": [
    {
     "name": "stdout",
     "output_type": "stream",
     "text": [
      "12\n"
     ]
    }
   ],
   "source": [
    "text = \"das ist ein Testtext\"\n",
    "ret = text.find(\"Test\")\n",
    "# In text wird das erste Auftreten von „Test“ gesucht und der index zurück \n",
    "# gegeben. Wenn nichts gefunden wurde ist der Rückgabewert -1\n",
    "print (ret) "
   ]
  },
  {
   "cell_type": "markdown",
   "metadata": {},
   "source": [
    "### Ersetzen von Teilstrings"
   ]
  },
  {
   "cell_type": "code",
   "execution_count": 9,
   "metadata": {},
   "outputs": [
    {
     "name": "stdout",
     "output_type": "stream",
     "text": [
      "Python ist sehr schwer zu lernen\n",
      "Python ist nicht schwer zu lernen\n"
     ]
    }
   ],
   "source": [
    "text = \"Python ist sehr schwer zu lernen\"\n",
    "print(text)\n",
    "text = text.replace(\"sehr\",\"nicht\")\n",
    "print (text)  # Ausgabe: Python ist nicht schwer zu lernen \n",
    "#Jedes Auftreten des gesuchten strings wird ersetzt"
   ]
  },
  {
   "cell_type": "markdown",
   "metadata": {},
   "source": [
    "### Groß- und Kleinbuchstaben"
   ]
  },
  {
   "cell_type": "code",
   "execution_count": 10,
   "metadata": {},
   "outputs": [
    {
     "name": "stdout",
     "output_type": "stream",
     "text": [
      "ALLE MEINE ENTCHEN SCHWIMMEN AUF DEM SEE\n",
      "alle meine entchen schwimmen auf dem see\n"
     ]
    }
   ],
   "source": [
    "text = \"Alle meine Entchen schwimmen auf dem See\"\n",
    "print(text.upper())  \n",
    "print(text.lower())  "
   ]
  },
  {
   "cell_type": "markdown",
   "metadata": {},
   "source": [
    "### Entfernen von Zeichen am Anfang und Ende des Strings\n",
    "Wenn nichts anderes angegeben wird, werden am Anfang und am Ende alle unsichtbaren Zeichen (zb: \\\\n\\\\r\\\\t ) und Leerzeichen entfernt. Das benötigt man oft beim Einlesen von Textdateien um die Zeilenendezeichen zu entfernen"
   ]
  },
  {
   "cell_type": "code",
   "execution_count": 11,
   "metadata": {},
   "outputs": [
    {
     "name": "stdout",
     "output_type": "stream",
     "text": [
      "\tTesttext\n",
      "\n",
      "________________________________________\n",
      "Testtext\n"
     ]
    }
   ],
   "source": [
    "text = \"\\tTesttext\\n\"\n",
    "print (text)\n",
    "print (\"________________________________________\")\n",
    "print(text.strip())"
   ]
  },
  {
   "cell_type": "markdown",
   "metadata": {},
   "source": [
    "### String Tests\n",
    "Den Inhalt von Strings auf bestimmte eigenschaften untersuchen"
   ]
  },
  {
   "cell_type": "code",
   "execution_count": 12,
   "metadata": {},
   "outputs": [
    {
     "name": "stdout",
     "output_type": "stream",
     "text": [
      "False\n",
      "True\n",
      "True\n",
      "False\n",
      "False\n"
     ]
    }
   ],
   "source": [
    "text = \"1234567\"\n",
    "#Buchstaben?\n",
    "print (text.isalpha())  \n",
    "#Buchstaben oder Ziffern?\n",
    "print (text.isalnum())  \n",
    "# Zahl?\n",
    "print (text.isdigit()) \n",
    "text = \"Hallo\"\n",
    "# Alles Kleinbuchstaben?\n",
    "print (text.islower())  \n",
    "# Alles Großbuchstaben?\n",
    "print (text.isupper()) "
   ]
  },
  {
   "cell_type": "markdown",
   "metadata": {},
   "source": [
    "## Formatieren von Ausgabestrings\n",
    "{} sind Platzhalter für variable Werte"
   ]
  },
  {
   "cell_type": "code",
   "execution_count": 13,
   "metadata": {},
   "outputs": [
    {
     "name": "stdout",
     "output_type": "stream",
     "text": [
      "Zahl1 : 123 , Zahl2 : 345\n"
     ]
    }
   ],
   "source": [
    "formatstring = \"Zahl1 : {} , Zahl2 : {}\"\n",
    "print (formatstring.format(123,345))"
   ]
  },
  {
   "cell_type": "markdown",
   "metadata": {},
   "source": [
    "Im Platzhalter kann auch der Name des Übergabeparamerters oder die Position angegeben werden. Dann wird die Reihenfolge nicht mehr eingehalten."
   ]
  },
  {
   "cell_type": "code",
   "execution_count": 14,
   "metadata": {},
   "outputs": [
    {
     "name": "stdout",
     "output_type": "stream",
     "text": [
      "Zahl1 : 4 , Zahl2 : 3 , Zahl3 : 2 , Zahl4 : 1\n",
      "Zahl1 : 3 , Zahl2 : 7 , Zahl3 : 0 , Zahl4 : 1\n"
     ]
    }
   ],
   "source": [
    "# Angabe der Postion der Übergabeparameter\n",
    "formatstring = \"Zahl1 : {3} , Zahl2 : {2} , Zahl3 : {1} , Zahl4 : {0}\"\n",
    "print (formatstring.format(1,2,3,4)) \n",
    "\n",
    "# Angabe der Namen der Übergabeparameter\n",
    "formatstring = \"Zahl1 : {a} , Zahl2 : {b} , Zahl3 : {c} , Zahl4 : {d}\"\n",
    "print (formatstring.format(b=7,a=3,c=0,d=1))\n"
   ]
  },
  {
   "cell_type": "markdown",
   "metadata": {},
   "source": [
    "Nach dem Namen des Platzhalters kann noch eine Formatierungsanweisung eingefügt werden. Sie wird durch einen Doppelpunkt vom Namen des Platzhalters getrennt.\n",
    "Eine einfache Zahl gibt an, wie viele Zeichen die Ausgabe des Wertes einnehmen soll."
   ]
  },
  {
   "cell_type": "code",
   "execution_count": 15,
   "metadata": {},
   "outputs": [
    {
     "name": "stdout",
     "output_type": "stream",
     "text": [
      "   0|   0\n",
      "   1|   1\n",
      "   2|   4\n",
      "   3|   9\n",
      "   4|  16\n"
     ]
    }
   ],
   "source": [
    "formatstring = \"{:4}|{:4}\"\n",
    "for i in range(5):\n",
    "    print(formatstring.format(i,i**2))"
   ]
  },
  {
   "cell_type": "markdown",
   "metadata": {},
   "source": [
    "Es kann auch noch angegebene werden wie die Ausgaben in dem Bereich erfolgen sollen:\n",
    "< (linksbündig , > rechtsbündig, ^ zentriert.\n",
    "\n",
    "Vor der Angabe zur Ausrichtung  kann das gewünschte  Füllzeichen angegeben werden (Default: Leerzeichen)"
   ]
  },
  {
   "cell_type": "code",
   "execution_count": 16,
   "metadata": {},
   "outputs": [
    {
     "name": "stdout",
     "output_type": "stream",
     "text": [
      "*0**|*0**\n",
      "*1**|*1**\n",
      "*2**|*4**\n",
      "*3**|*9**\n",
      "*4**|*16*\n"
     ]
    }
   ],
   "source": [
    "formatstring = \"{:*^4}|{:*^4}\"\n",
    "for i in range(5):\n",
    "    print(formatstring.format(i,i**2))\n"
   ]
  },
  {
   "cell_type": "code",
   "execution_count": 17,
   "metadata": {},
   "outputs": [
    {
     "name": "stdout",
     "output_type": "stream",
     "text": [
      "0   |   0\n",
      "1   |   1\n",
      "2   |   4\n",
      "3   |   9\n",
      "4   |  16\n"
     ]
    }
   ],
   "source": [
    "formatstring = \"{:<4}|{:>4}\"\n",
    "for i in range(5):\n",
    "    print(formatstring.format(i,i**2))\n"
   ]
  },
  {
   "cell_type": "markdown",
   "metadata": {},
   "source": [
    "### Genauigkeit bei der Ausgabe von Gleitkommazahlen\n",
    "Nach der Ausgabebreite kann für Gleitkommazahlen nach einem Punkt die Stellen nach dem Komma und die Darstellung gewählt werden:"
   ]
  },
  {
   "cell_type": "code",
   "execution_count": 18,
   "metadata": {},
   "outputs": [
    {
     "name": "stdout",
     "output_type": "stream",
     "text": [
      "  123523.43     1.2e+05  12352343.45% \n"
     ]
    }
   ],
   "source": [
    "formatstring = \" {0:10.2f}  {0:10.2g}  {0:10.2%} \"\n",
    "# Der Wert wird 3 * ausgegeben !\n",
    "print (formatstring.format(123523.4345))"
   ]
  },
  {
   "cell_type": "markdown",
   "metadata": {},
   "source": [
    "### Darstellung von ganzen Zahlen\n",
    "Ganze Zahlen können auch in verschiedenen Zahlensystemen ausgegeben werden. \n",
    "b (Binär), o (Oktal), x (Hexadezimal), X (Hexadezimal mit Großbuchstaben) \n",
    "Ein #-Zeichen vor dem Typ erzeugt die eine Ausgabe mit der Codierungsangabe\n",
    "\n",
    "Erläuterung des Beispiels:\n",
    "\n",
    "0:#04X  bedeutet\n",
    "Parameter 0 : Angabe des Zahlensystems / Füllzeichen 0 / Ausgabe mind. 4 Zeichen / Hexadezimal"
   ]
  },
  {
   "cell_type": "code",
   "execution_count": 19,
   "metadata": {},
   "outputs": [
    {
     "name": "stdout",
     "output_type": "stream",
     "text": [
      "0254,00fe,0XFE,0o0376 0b11111110\n"
     ]
    }
   ],
   "source": [
    "formatstring = \"{0:04},{0:04x},{0:#04X},{0:#06o} {0:#08b}\"\n",
    "print (formatstring.format(254))"
   ]
  },
  {
   "cell_type": "markdown",
   "metadata": {},
   "source": [
    "### Kurzform der Formatierung  : f-Strings\n",
    "\n",
    "Es gibt auch eine Kurzform der Formatierung. Strings mit einem f vor dem öffnenden Hochkomma werden als Formatstrings interpretiert. Es  gibt dann keine Übergabeparameter, die eingesetzt werden können. Vor dem Doppelpunkt in den geschweiften Klammern müssen in diesem Fall gültige Variablennamen stehen, deren aktuelle Werte in den String übernommen werden.\n",
    "\n",
    "Alle oben beschriebenen Formatierungen können verwendet werden"
   ]
  },
  {
   "cell_type": "code",
   "execution_count": 20,
   "metadata": {},
   "outputs": [
    {
     "name": "stdout",
     "output_type": "stream",
     "text": [
      "0020,0014,0X14,0o0024 0b010100\n",
      "0020,0014,0X14,0o0024 0b010100\n"
     ]
    }
   ],
   "source": [
    "zahl = 20 \n",
    "print (f\"{zahl:04},{zahl:04x},{zahl:#04X},{zahl:#06o} {zahl:#08b}\")\n",
    "\n",
    "#Lange Form:\n",
    "formatstring = \"{zahl:04},{zahl:04x},{zahl:#04X},{zahl:#06o} {zahl:#08b}\"\n",
    "print(formatstring.format(zahl = 20))"
   ]
  },
  {
   "cell_type": "code",
   "execution_count": 21,
   "metadata": {},
   "outputs": [
    {
     "name": "stdout",
     "output_type": "stream",
     "text": [
      "i hat den Wert: 34 j hat den Wert: 34.5\n"
     ]
    }
   ],
   "source": [
    "i = 34 \n",
    "j = 34.5\n",
    "print (f\"i hat den Wert: {i} j hat den Wert: {j}\")"
   ]
  }
 ],
 "metadata": {
  "kernelspec": {
   "display_name": "Python 3",
   "language": "python",
   "name": "python3"
  },
  "language_info": {
   "codemirror_mode": {
    "name": "ipython",
    "version": 3
   },
   "file_extension": ".py",
   "mimetype": "text/x-python",
   "name": "python",
   "nbconvert_exporter": "python",
   "pygments_lexer": "ipython3",
   "version": "3.8.1"
  },
  "orig_nbformat": 4
 },
 "nbformat": 4,
 "nbformat_minor": 2
}
