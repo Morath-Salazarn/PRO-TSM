{
 "cells": [
  {
   "attachments": {
    "image.png": {
     "image/png": "[encoded data removed]"
    }
   },
   "cell_type": "markdown",
   "metadata": {},
   "source": [
    "## Attribute in Klassen\n",
    "\n",
    "In vielen anderen Programmiersprachen kann man den direkten Zugriff auf  Attibute eines Objektes verhindern, indem man das Attribut mit dem Schlüsselwort private schützt. Im UML-Diagramm werden diese Attribute mit einem Minus-Zeichen gekennzeichnet.\n",
    "\n",
    "![image.png](attachment:image.png)\n",
    "\n",
    "Solche Attribute können nur innerhalb der Klasse verwendet werden.\n",
    "Für Python gibt es diesen Mechanismus nicht. Es gibt eine Vereinbarung, dass auf Attributte, deren Name mit einem Unterstrich beginnt, nicht direkt zugegriffen wird.\n",
    "\n",
    "Mit passenden get und set Methoden, kann man die Werte der privaten Variablen verändern und lesen. Es kann aber so sicher gestellt werden, dass die Variable keine ungültigen Werte annimmt.\n",
    "\n",
    "\n",
    "Beispiel:\n"
   ]
  },
  {
   "cell_type": "code",
   "execution_count": 2,
   "metadata": {},
   "outputs": [],
   "source": [
    "class Punkt1():\n",
    "    #Konstruktordefinition\n",
    "    def __init__(self,x=0,y=0,farbe='black'):  \n",
    "        #initialisieren von public Variablen\n",
    "        self.x = x\n",
    "        self.y = y\n",
    "        # initialisieren einer private (internen) Variablen\n",
    "        self.setFarbe(farbe)\n",
    "    \n",
    "    # Setter Methode für die Farbe: \n",
    "    # Der Name der Methode ist immer set + Attributname (1. Buchstabe groß ohne Unterstrich)\n",
    "    def setFarbe(self,neueFarbe):\n",
    "        #hier müsste noch eine genauere Prüfung stattfinden\n",
    "        if neueFarbe != \"\" and isinstance(neueFarbe,str):\n",
    "            self._farbe = neueFarbe\n",
    "        else:\n",
    "            self._farbe = \"black\"\n",
    "\n",
    "    # Getter Methode für die Farbe: \n",
    "    # Name ist immer get + Attributname (ohne Unterstrich)\n",
    "    def getFarbe(self):\n",
    "        return self._farbe"
   ]
  },
  {
   "cell_type": "code",
   "execution_count": 3,
   "metadata": {},
   "outputs": [
    {
     "name": "stdout",
     "output_type": "stream",
     "text": [
      "345\n",
      "345\n"
     ]
    }
   ],
   "source": [
    "p1 = Punkt1(3,4,345)\n",
    "\n",
    "# Richtig:\n",
    "p1.x = 2\n",
    "p1.y = 3\n",
    "p1.setFarbe(\"green\")\n",
    "\n",
    "#falsch! Die Farbe darf nicht direkt zugewiesen werden!!! Funktioniert aber\n",
    "p1._farbe = 345\n",
    "\n",
    "#Richtig\n",
    "print(p1.getFarbe())\n",
    "\n",
    "#Falsch: Funktioniert aber leider\n",
    "print(p1._farbe)\n",
    "\n",
    "\n"
   ]
  },
  {
   "attachments": {},
   "cell_type": "markdown",
   "metadata": {},
   "source": [
    "### Property Attribute\n",
    "Wenn man die Klasse um eine Property-Anweisung erweitert, kann man die Verwendung der Getter und Setter-Methoden für ein Attribut erzwingen:\n",
    "\n",
    "Zum Beispiel:\n",
    "`farbe = property(getFarbe,setFarbe)`\n",
    "\n",
    "In der Klasse schaut das dann so aus:"
   ]
  },
  {
   "cell_type": "code",
   "execution_count": 4,
   "metadata": {},
   "outputs": [],
   "source": [
    "class Punkt2():\n",
    "    #Konstruktordefinition\n",
    "    def __init__(self,x=0,y=0,farbe='black'):  \n",
    "        #initialisieren von public Variablen\n",
    "        self.x = x\n",
    "        self.y = y\n",
    "        # initialisieren einer private (internen) Variablen\n",
    "        self._farbe = farbe\n",
    "    \n",
    "    # Setter Methode für die Farbe: \n",
    "    # Der Name der Methode ist immer set + Attributname (1. Buchstabe groß ohne Unterstrich)\n",
    "    def setFarbe(self,neueFarbe):\n",
    "        print(\"setFarbe wurde aufgerufen\")\n",
    "        #hier müsste noch eine genauere Prüfung stattfinden\n",
    "        if neueFarbe != \"\" and isinstance(neueFarbe,str):\n",
    "            self._farbe = neueFarbe\n",
    "        else:\n",
    "            self._farbe = \"black\"\n",
    "\n",
    "    # Getter Methode für die Farbe: \n",
    "    # Name ist immer get + Attributname (ohne Unterstrich)\n",
    "    def getFarbe(self):\n",
    "        print(\"getFarbe wurde aufgerufen\")\n",
    "        return self._farbe\n",
    "    \n",
    "    # Neu: Property-Anweisung!!\n",
    "    farbe = property(getFarbe,setFarbe)"
   ]
  },
  {
   "attachments": {},
   "cell_type": "markdown",
   "metadata": {},
   "source": [
    "Hier ein paar Testaufrufe:"
   ]
  },
  {
   "cell_type": "code",
   "execution_count": 5,
   "metadata": {},
   "outputs": [
    {
     "name": "stdout",
     "output_type": "stream",
     "text": [
      "getFarbe wurde aufgerufen\n",
      "rot\n",
      "setFarbe wurde aufgerufen\n",
      "setFarbe wurde aufgerufen\n",
      "getFarbe wurde aufgerufen\n",
      "black\n",
      "getFarbe wurde aufgerufen\n",
      "black\n"
     ]
    }
   ],
   "source": [
    "p2 = Punkt2(1,3,'rot')\n",
    "print(p2.farbe)\n",
    "\n",
    "\n",
    "# Richtig:\n",
    "p2.x = 2\n",
    "p2.y = 3\n",
    "p2.setFarbe(\"green\")\n",
    "\n",
    "#Jetzt wird automatisch der Setter aufgerufen:\n",
    "p2.farbe = 45\n",
    "\n",
    "#Richtig\n",
    "print(p2.getFarbe())\n",
    "\n",
    "#Jetzt wird automatisch der Getter aufgerufen\n",
    "print(p2.farbe)\n"
   ]
  },
  {
   "attachments": {},
   "cell_type": "markdown",
   "metadata": {},
   "source": [
    "#### Aufgabe\n",
    "\n",
    "Erstellen Sie eine Klasse Person, die Name, Vorname und Alter einer Person speichert. Alle Variablen sollen \"private\" sein. Erstellen Sie einen Konstruktor und passende Get- und Set- Methoden. Der Standardname soll JANE DOE sein, das Standardalter 0. Verhindern Sie ungültige Eingaben für alle 3 Attribute.\n",
    "\n",
    "Erstellen Sie ein Testprogramm."
   ]
  },
  {
   "cell_type": "markdown",
   "metadata": {},
   "source": []
  },
  {
   "cell_type": "code",
   "execution_count": null,
   "metadata": {},
   "outputs": [],
   "source": [
    "class Person():\n",
    "    #Konstruktor\n",
    "    def __init__(self, name, vorname, alter):\n",
    "        self.setName(name)\n",
    "        self.setVorname(vorname)\n",
    "        self.setAlter(alter)\n",
    "\n",
    "    #Setter\n",
    "\n",
    "    def setName(self, newName):\n",
    "        if(newName != \"\" and isinstance(newName, str)):\n",
    "            self.name = newName\n",
    "        else:\n",
    "            self.name = \"DOE\"\n",
    "    def setVorname(self, newVorname):\n",
    "        if newVorname != \"\" and isinstance(newVorname, str):\n",
    "            self.vorname = newVorname\n",
    "        else:\n",
    "            self.vorname = \"JANE\"\n",
    "\n",
    "    def setAlter(self, newAlter):\n",
    "        if isinstance(newAlter, int) and newAlter >= 0:\n",
    "            self.alter = newAlter"
   ]
  },
  {
   "attachments": {},
   "cell_type": "markdown",
   "metadata": {},
   "source": [
    "### Typisierung \n",
    "\n",
    "Python bestimmt den Datentyp einer Variablen immer selbst. Trotzdem kann man beim Programmieren dafür sorgen, dass nicht unbeabsichtigt falsche Typen verwendet werden. \n",
    "Die Typisierung wird vom Python-Interpreter ignoriert. Programme, die den Programmierstil prüfen (linter) melden beim Programmieren aber dann bei Typverletzungen Fehler.\n",
    "\n",
    "Zur Typisierung gibt man nach der Definition eines Parameters, eines Attributs nach einem Doppelpunkt den gewünschten Datentyp an. \n",
    "\n",
    "Bei Funktionen gibt man den Typ des Rückgabewertes nach den Parameter-Klammern zwischen -> und einem Doppelpunkt an. Wenn die Funktion keinen Rückgabewert liefert wird als Typ None angegeben.\n",
    "\n",
    "`def setFarbe(self,neueFarbe: str) -> int:`"
   ]
  },
  {
   "attachments": {},
   "cell_type": "markdown",
   "metadata": {},
   "source": [
    "#### Hinweis\n",
    "Linting funktioniert in Jupyter Notebooks leider nicht zuverlässig.\n",
    "Für normale Python-Programme ist eine Linting-Extension (z.B. Pylint und die passende Python-Bibliothek) und die Extension Error-Lens (blendet Fehlermeldungen in den Programmtext ein) sinnvoll.\n",
    "\n",
    "Mit Hilfe der Tastenkombination CTRL-SHIFT-P und dem Kommando Python: Enable/Disable Linting kann das Linting ein- und ausgeschaltet werden.\n",
    "\n",
    "Für die folgenden Beispiele wird trotzdem die Typisierung verwendet, um die Verständlichkeit der Klassen zu verbessern."
   ]
  },
  {
   "cell_type": "code",
   "execution_count": 6,
   "metadata": {},
   "outputs": [],
   "source": [
    "class Punkt3():\n",
    "\n",
    "    #Konstruktordefinition\n",
    "    def __init__(self,x : int =0,y : int =0,farbe : str ='black'):  \n",
    "        #initialisieren von public Variablen\n",
    "        self.x :int = x\n",
    "        self.y :int = y\n",
    "        # initialisieren einer private (internen) Variablen\n",
    "        self.setFarbe(farbe)\n",
    "    \n",
    "    # Setter Methode für die Farbe: \n",
    "    # Der Name der Methode ist immer set + Attributname (1. Buchstabe groß ohne Unterstrich)\n",
    "    def setFarbe(self,neueFarbe: str) -> int:\n",
    "        #print(\"setFarbe wurde aufgerufen\")\n",
    "        #hier müsste noch eine genauere Prüfung stattfinden\n",
    "        if neueFarbe != \"\" and isinstance(neueFarbe,str):\n",
    "            self._farbe : str = neueFarbe\n",
    "        else:\n",
    "            self._farbe :str = \"black\"\n",
    "\n",
    "    # Getter Methode für die Farbe: \n",
    "    # Name ist immer get + Attributname (ohne Unterstrich)\n",
    "    def getFarbe (self) -> str:\n",
    "        #print(\"getFarbe wurde aufgerufen\")\n",
    "        return self._farbe\n",
    "    \n",
    "    farbe = property(getFarbe,setFarbe)"
   ]
  }
 ],
 "metadata": {
  "kernelspec": {
   "display_name": "Python 3",
   "language": "python",
   "name": "python3"
  },
  "language_info": {
   "codemirror_mode": {
    "name": "ipython",
    "version": 3
   },
   "file_extension": ".py",
   "mimetype": "text/x-python",
   "name": "python",
   "nbconvert_exporter": "python",
   "pygments_lexer": "ipython3",
   "version": "3.8.1"
  },
  "orig_nbformat": 4
 },
 "nbformat": 4,
 "nbformat_minor": 2
}
